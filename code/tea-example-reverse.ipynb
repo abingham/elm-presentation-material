{
 "cells": [
  {
   "cell_type": "markdown",
   "metadata": {},
   "source": [
    "# A Complete \"Elm Architecture\" Example"
   ]
  },
  {
   "cell_type": "markdown",
   "metadata": {},
   "source": [
    "First you need to import all of your dependencies:"
   ]
  },
  {
   "cell_type": "code",
   "execution_count": null,
   "metadata": {
    "collapsed": true
   },
   "outputs": [],
   "source": [
    "-- Normally you'd have a module declaration here!\n",
    "\n",
    "import Html exposing (Html, Attribute, button, text, div, input, program)\n",
    "import Html.Attributes exposing (..)\n",
    "import Html.Events exposing (onClick, onInput)\n",
    "import Platform.Cmd\n",
    "import Platform.Sub\n",
    "import String"
   ]
  },
  {
   "cell_type": "markdown",
   "metadata": {},
   "source": [
    "Next we define our (very simple) model:"
   ]
  },
  {
   "cell_type": "code",
   "execution_count": null,
   "metadata": {
    "collapsed": true
   },
   "outputs": [],
   "source": [
    "type alias Model =\n",
    "    String"
   ]
  },
  {
   "cell_type": "markdown",
   "metadata": {},
   "source": [
    "These messages define all of the ways our model can be changed:"
   ]
  },
  {
   "cell_type": "code",
   "execution_count": null,
   "metadata": {
    "collapsed": true
   },
   "outputs": [],
   "source": [
    "type Msg\n",
    "    = SetMsg String\n",
    "    | ClearMsg"
   ]
  },
  {
   "cell_type": "markdown",
   "metadata": {},
   "source": [
    "The `update` function transforms our model based on messages:"
   ]
  },
  {
   "cell_type": "code",
   "execution_count": null,
   "metadata": {
    "collapsed": true
   },
   "outputs": [],
   "source": [
    "update : Msg -> Model -> ( Model, Platform.Cmd.Cmd Msg )\n",
    "update msg model =\n",
    "    case msg of\n",
    "        SetMsg m ->\n",
    "            ( m, Platform.Cmd.none )\n",
    "\n",
    "        ClearMsg ->\n",
    "            (\"\", Platform.Cmd.none)"
   ]
  },
  {
   "cell_type": "markdown",
   "metadata": {},
   "source": [
    "The `view` function knows how to render a model as HTML:"
   ]
  },
  {
   "cell_type": "code",
   "execution_count": null,
   "metadata": {
    "collapsed": true
   },
   "outputs": [],
   "source": [
    "view : Model -> Html Msg\n",
    "view model =\n",
    "    div []\n",
    "        [ input\n",
    "            [ placeholder \"Text to reverse\"\n",
    "            , value model\n",
    "            , onInput SetMsg\n",
    "            , inputStyle\n",
    "            ]\n",
    "            []\n",
    "        , input\n",
    "            [ placeholder \"Reversed text\"\n",
    "            , value (String.reverse model)\n",
    "            , inputStyle\n",
    "            , disabled True\n",
    "            ]\n",
    "            []\n",
    "        , button [onClick ClearMsg] [text \"Clear\"]\n",
    "        ]\n",
    "        \n",
    "inputStyle : Attribute Msg\n",
    "inputStyle =\n",
    "    style\n",
    "        [ ( \"width\", \"100%\" )\n",
    "        , ( \"height\", \"40px\" )\n",
    "        , ( \"padding\", \"10px 0\" )\n",
    "        , ( \"font-size\", \"2em\" )\n",
    "        , ( \"text-align\", \"center\" )\n",
    "        ]    "
   ]
  },
  {
   "cell_type": "markdown",
   "metadata": {},
   "source": [
    "Finally `main` wires everything together:"
   ]
  },
  {
   "cell_type": "code",
   "execution_count": null,
   "metadata": {},
   "outputs": [],
   "source": [
    "main : Program Never Model Msg\n",
    "main =\n",
    "    Html.program\n",
    "        { init = ( \"\", Platform.Cmd.none )\n",
    "        , view = view\n",
    "        , update = update\n",
    "        , subscriptions = \\_ -> Platform.Sub.none\n",
    "        }\n",
    "\n",
    "-- compile-code"
   ]
  }
 ],
 "metadata": {
  "kernelspec": {
   "display_name": "Elm",
   "language": "text",
   "name": "elm"
  },
  "language_info": {
   "codemirror_mode": "elm",
   "file_extension": ".elm",
   "mimetype": "text/x-elm",
   "name": "elm"
  }
 },
 "nbformat": 4,
 "nbformat_minor": 2
}
